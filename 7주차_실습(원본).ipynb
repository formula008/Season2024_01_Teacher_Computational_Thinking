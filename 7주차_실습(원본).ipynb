{
  "nbformat": 4,
  "nbformat_minor": 0,
  "metadata": {
    "colab": {
      "provenance": [],
      "authorship_tag": "ABX9TyN/+H3tw7szEouAAn+VJDLG",
      "include_colab_link": true
    },
    "kernelspec": {
      "name": "python3",
      "display_name": "Python 3"
    },
    "language_info": {
      "name": "python"
    }
  },
  "cells": [
    {
      "cell_type": "markdown",
      "metadata": {
        "id": "view-in-github",
        "colab_type": "text"
      },
      "source": [
        "<a href=\"https://colab.research.google.com/github/formula008/Season2024_01_Teacher_Computational_Thinking/blob/main/7%EC%A3%BC%EC%B0%A8_%EC%8B%A4%EC%8A%B5(%EC%9B%90%EB%B3%B8).ipynb\" target=\"_parent\"><img src=\"https://colab.research.google.com/assets/colab-badge.svg\" alt=\"Open In Colab\"/></a>"
      ]
    },
    {
      "cell_type": "markdown",
      "source": [
        "문제 1번"
      ],
      "metadata": {
        "id": "bTlzFzFFpMgv"
      }
    },
    {
      "cell_type": "code",
      "source": [
        "print(input('자기이름을 입력해 주세요 --> ') + '님 안녕하세요')"
      ],
      "metadata": {
        "colab": {
          "base_uri": "https://localhost:8080/"
        },
        "id": "oJpkQM1jpIuf",
        "outputId": "8a303d10-d261-4593-aac8-eb7d3fbea758"
      },
      "execution_count": 2,
      "outputs": [
        {
          "output_type": "stream",
          "name": "stdout",
          "text": [
            "자기이름을 입력해 주세요 --> 홍길동\n",
            "홍길동님 안녕하세요\n"
          ]
        }
      ]
    },
    {
      "cell_type": "markdown",
      "source": [
        "문제 2번 자동판매기에 투입한 돈과 물건 값이 아래와 같이 변수에저장되었다고 가정하고 잔돈을 계산하여 동전으로 거슬러주는 프로그램을 작성하여라"
      ],
      "metadata": {
        "id": "wyFpyAohpupG"
      }
    },
    {
      "cell_type": "code",
      "source": [
        "money = 1600   #투입한돈\n",
        "price = 1000   # 물건값\n",
        "\n",
        "change = money - price\n",
        "print('거스름돈 : ',change,'원')\n",
        "\n",
        "print('500원 동전 : ',change//500,'개')\n",
        "print('100원 동전 : ',change%500,'개')"
      ],
      "metadata": {
        "colab": {
          "base_uri": "https://localhost:8080/"
        },
        "id": "Y3CnWWqmpyDw",
        "outputId": "b8078ffb-62c4-41ba-ee96-0bdf65b2e587"
      },
      "execution_count": 3,
      "outputs": [
        {
          "output_type": "stream",
          "name": "stdout",
          "text": [
            "거스름돈 :  600 원\n",
            "500원 동전 :  1 개\n",
            "100원 동전 :  100 개\n"
          ]
        }
      ]
    },
    {
      "cell_type": "markdown",
      "source": [
        "문제 3번 국어,영어,수학 점수를 입력하여 총점과 평균을 구하고 평균은 소숫점 둘째 짜리 까지 구하여라"
      ],
      "metadata": {
        "id": "zlSBQJjUqsN_"
      }
    },
    {
      "cell_type": "code",
      "source": [
        "kor = int(input('국어점수는? '))\n",
        "mat = int(input('수학점수는? '))\n",
        "eng = int(input('영어점수는? '))\n",
        "total = kor + mat + eng\n",
        "avg = total/3\n",
        "\n",
        "print(f'총점 : {total}, 평균 : {avg:.2f}')"
      ],
      "metadata": {
        "colab": {
          "base_uri": "https://localhost:8080/"
        },
        "id": "kRVc9_ogqvLv",
        "outputId": "45147f51-383b-4422-bab0-206d23987131"
      },
      "execution_count": 4,
      "outputs": [
        {
          "output_type": "stream",
          "name": "stdout",
          "text": [
            "국어점수는? 80\n",
            "수학점수는? 60\n",
            "영어점수는? 93\n",
            "총점 : 233, 평균 : 77.67\n"
          ]
        }
      ]
    },
    {
      "cell_type": "markdown",
      "source": [
        "문제 4"
      ],
      "metadata": {
        "id": "Mqb24bX2rIII"
      }
    },
    {
      "cell_type": "code",
      "source": [
        "# 입력값 a 가 50보다 크다면\n",
        "# a를 3으로 나누어 0이면 \"A\" 출력\n",
        "# a를 3으로 나누어 1이면 \"B\" 출력\n",
        "# a를 3으로 나누어 2이면 \"C\" 출력\n",
        "# 입력값 a 가 50이하이면\n",
        "# a를 2로 나누어 나머지가 0 이면 \"D\" 출력\n",
        "# a를 2로 나누어 나머지가 1 이면 \"E\" 출력\n",
        "a = int(input('숫자 입력 : '))\n",
        "if a > 50 :\n",
        "    if a % 3 == 0 :\n",
        "        print('A')\n",
        "    elif a % 3 == 1 :\n",
        "        print('B')\n",
        "    else :\n",
        "        print('C')\n",
        "else :\n",
        "    if a % 2 == 0 :\n",
        "        print('D')\n",
        "    else :\n",
        "        print('E')"
      ],
      "metadata": {
        "colab": {
          "base_uri": "https://localhost:8080/"
        },
        "id": "TUJCdDjirKBX",
        "outputId": "d2f0c4db-7c54-4932-fa85-b23459dfcc53"
      },
      "execution_count": 5,
      "outputs": [
        {
          "output_type": "stream",
          "name": "stdout",
          "text": [
            "숫자 입력 : 51\n",
            "A\n"
          ]
        }
      ]
    },
    {
      "cell_type": "markdown",
      "source": [
        "문제 5번 입력받은 나이에 따라 놀이동산 입장료를 출력한다"
      ],
      "metadata": {
        "id": "pJqJaXwsrs-o"
      }
    },
    {
      "cell_type": "code",
      "source": [
        "# 입장료 정가 : 2만원,  1세~6세:무료, 6세~60세:정가, 60세이상 : 정가의 50%\n",
        "# 이외의 나이를 입력할 경우 오류 메세지 출력\n",
        "age = int(input('나이 입력 : '))\n",
        "price = 20000\n",
        "\n",
        "if 1 <= age < 6 :\n",
        "    print('입장료 :  무료')\n",
        "elif 6 <= age < 60 :\n",
        "    print(f'입장료 : {price}원')\n",
        "elif age >= 60 :\n",
        "    print(f'입장료 : {price*.5:.0f}원')\n",
        "else :\n",
        "    print('1살 이상의 나이를 입력해 주세요')"
      ],
      "metadata": {
        "id": "YaWqREEvrtZY"
      },
      "execution_count": null,
      "outputs": []
    },
    {
      "cell_type": "markdown",
      "source": [
        "문제 6번 4개의 점수를 입력 받아서 총점과 평균(소숫점둘째자리)을 구하고\n",
        "평균이 90점이상 'Level 1' 80점 이상 'Level 2' 70점이상 'Level 3' 나머지는 'FAIL'로 출력하여라"
      ],
      "metadata": {
        "id": "92Faq9ehsEq_"
      }
    },
    {
      "cell_type": "code",
      "source": [
        "jumsu1 = int(input('1번째 점수 입력 : '))\n",
        "jumsu2 = int(input('2번째 점수 입력 : '))\n",
        "jumsu3 = int(input('3번째 점수 입력 : '))\n",
        "jumsu4 = int(input('4번째 점수 입력 : '))\n",
        "\n",
        "total = jumsu1 + jumsu2 + jumsu3 + jumsu4\n",
        "avg = total / 4\n",
        "\n",
        "\n",
        "if avg >= 90 :\n",
        "    result ='Level1'\n",
        "elif avg >= 80 :\n",
        "    result = 'Level2'\n",
        "elif avg >= 70 :\n",
        "    result = 'Level3'\n",
        "else :\n",
        "    result = 'FAIL'\n",
        "\n",
        "print(f\"총점 : {total}점, 평균 : {avg:.2f}점, 평가 : {result}\")"
      ],
      "metadata": {
        "colab": {
          "base_uri": "https://localhost:8080/"
        },
        "id": "HgCkQiodsZpy",
        "outputId": "dd09d8d3-00f0-4f31-ef22-65c8c071c09c"
      },
      "execution_count": 6,
      "outputs": [
        {
          "output_type": "stream",
          "name": "stdout",
          "text": [
            "1번째 점수 입력 : 95\n",
            "2번째 점수 입력 : 85\n",
            "3번째 점수 입력 : 67\n",
            "4번째 점수 입력 : 98\n",
            "총점 : 345점, 평균 : 86.25점, 평가 : Level2\n"
          ]
        }
      ]
    },
    {
      "cell_type": "markdown",
      "source": [
        "문제 7번  키와 몸무게를 입력 받아 BMI 지수를 계산한 후 비만 상태를 출력하시오"
      ],
      "metadata": {
        "id": "12diaMgtsKJ_"
      }
    },
    {
      "cell_type": "code",
      "source": [
        "# BMI = 체중(kg)/(키(m)**2)\n",
        "# BMI 지수가 18 미만이면 저체중\n",
        "# BMI 지수가 18~23 미만이면 정상\n",
        "# BMI 지수가 23~25 미만이면 과체중\n",
        "# BMI 지수가 25 이상이면 비만\n",
        "\n",
        "h = float(input('키(cm) 입력 : '))\n",
        "w = float(input('몸무게(kg) 입력 : '))\n",
        "\n",
        "bmi = w / ((h/100) * (h/100))\n",
        "\n",
        "if bmi < 18 :\n",
        "    result = '저체중'\n",
        "elif bmi < 23 :\n",
        "    result = '정상'\n",
        "elif bmi < 25 :\n",
        "    result = '과체중'\n",
        "else :\n",
        "    result = '비만'\n",
        "\n",
        "print(f'BMI : {bmi:.2f}, 결과 : {result}')"
      ],
      "metadata": {
        "colab": {
          "base_uri": "https://localhost:8080/"
        },
        "id": "zfQsPmhys0mo",
        "outputId": "6ca488d1-031b-4b2f-c912-8bb35cc3f286"
      },
      "execution_count": 7,
      "outputs": [
        {
          "output_type": "stream",
          "name": "stdout",
          "text": [
            "키(cm) 입력 : 182.3\n",
            "몸무게(kg) 입력 : 72.3\n",
            "BMI : 21.76, 결과 : 정상\n"
          ]
        }
      ]
    },
    {
      "cell_type": "markdown",
      "source": [
        "문제 8 가위바위보 게임 만들기"
      ],
      "metadata": {
        "id": "jNJnxmsJtFXw"
      }
    },
    {
      "cell_type": "code",
      "source": [
        "import random\n",
        "\n",
        "cnt = random.randint(1,3)\n",
        "if cnt == 1 :\n",
        "    com = '가위'\n",
        "elif cnt == 2 :\n",
        "    com = '가위'\n",
        "else :\n",
        "    com = '보'\n",
        "player = input('가위, 바위, 보 중에서 하나 입력: ')\n",
        "\n",
        "if player == com :\n",
        "    result = '비김'\n",
        "elif player == '가위' and com == '바위' :\n",
        "    result = '졌음'\n",
        "elif player == '바위' and com == '보' :\n",
        "    result = '졌음'\n",
        "elif player == '보' and com == '가위' :\n",
        "    result = '졌음'\n",
        "else :\n",
        "    result = '이김'\n",
        "\n",
        "print(f'유저 : {player} VS 컴퓨터 : {com} --> 결과 : {result}')"
      ],
      "metadata": {
        "colab": {
          "base_uri": "https://localhost:8080/"
        },
        "id": "1lOjLLvZtEK4",
        "outputId": "e6de2f53-82ee-40e8-be69-256d31dac117"
      },
      "execution_count": 8,
      "outputs": [
        {
          "output_type": "stream",
          "name": "stdout",
          "text": [
            "가위, 바위, 보 중에서 하나 입력: 가위\n",
            "유저 : 가위 VS 컴퓨터 : 가위 --> 결과 : 비김\n"
          ]
        }
      ]
    }
  ]
}